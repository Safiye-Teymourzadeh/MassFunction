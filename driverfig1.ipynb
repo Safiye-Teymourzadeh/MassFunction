import numpy as np
import astropy.io.fits as fits
from astropy.table import Table, Column
import matplotlib.pyplot as plt
from astropy.cosmology import FlatLambdaCDM
from astropy import units as u
from astropy.constants import c as c_const
from scipy.integrate import quad
from IPython.display import Image
import astropy.units as u
import numpy as np
#%%
"""
    All the three SDSS_MS, GAMA_Ms, and GAMA_ALL are from "gkvScienceCatv02", with QN>2
    SDSS doesnt have G23 => MS & equatorial will be the same for it.
    link: 'http://www.gama-survey.org/dr4/data/cat/SpecCat/v27/'

"""

# laptop gkvScienceCatv02
gkvScienceCatv02_raw = fits.open('/home/farnoosh/farnoosh/Master_Thesis_all/Data/GAMA/gkvScienceCatv02/gkvScienceCatv02.fits')[1].data
print('gkvScienceCatv02_raw file is opened')

# Apply selection criteria : "gkvScienceCatv02"
valid_mask = (gkvScienceCatv02_raw['NQ'] > 2) & (gkvScienceCatv02_raw['Z'] > 0)
gkvScienceCatv02 = gkvScienceCatv02_raw[valid_mask]

num_of_gkvScienceCat = len(gkvScienceCatv02)
print('number of the objects in "gkvScienceCatv02" that have Z>0 and NQ>2: ', num_of_gkvScienceCat)

#%%
# regions
regions_gkvScienceCat = {
    'G09': {'RAcen': (129.0, 141.0), 'DECcen': (-2.0, 3.0)},
    'G12': {'RAcen': (174.0, 176.0), 'DECcen': (-3.0, 2.0)},
    'G15': {'RAcen': (211.5, 223.5), 'DECcen': (-2.0, 3.0)},
    'G23': {'RAcen': (339.0, 351.0), 'DECcen': (-35.0, -30.0)},
}
#%%
# redshifts

max_Z = []
min_Z = []

# Loop through each region and calculate the max and min redshifts
for region, limits in regions_gkvScienceCat.items():
    ra_mask_gkvScienceCat = (gkvScienceCatv02['RAcen'] >= limits['RAcen'][0]) & (gkvScienceCatv02['RAcen'] <= limits['RAcen'][1])
    dec_mask_gkvScienceCat = (gkvScienceCatv02['DECcen'] >= limits['DECcen'][0]) & (gkvScienceCatv02['DECcen'] <= limits['DECcen'][1])
    combined_mask_gkvScienceCat = ra_mask_gkvScienceCat & dec_mask_gkvScienceCat

    Z = gkvScienceCatv02['Z'][combined_mask_gkvScienceCat]

    # Calculate the max and min redshifts for the region
    max_Z_region = max(Z)
    min_Z_region = min(Z)

    max_Z.append(max_Z_region)
    min_Z.append(min_Z_region)

    print(f'Number of objects in gkvScienceCat {region}: {combined_mask_gkvScienceCat.sum()}')
    print(f'Redshifts in {region}: {Z}')
    print(f'Max Z in {region}: {max_Z_region}')
    print(f'Min Z in {region}: {min_Z_region}')

# Print the overall max and min redshifts for all regions
overall_max_Z = max(max_Z)
overall_min_Z = min(min_Z)
print(f'Overall Max Z: {overall_max_Z}')
print(f'Overall Min Z: {overall_min_Z}')

# the total number of objects in All regions
total_objects_in_all_regions_gkvScienceCat = len(gkvScienceCatv02)
print("Total number of objects of 'gkvScienceCat' in all regions:", total_objects_in_all_regions_gkvScienceCat)
#%%
# apparent magnitude
flux_rt = gkvScienceCatv02_raw['flux_rt']      #the flux is in Jy
ap_mag_rt = 8.9 -2.5 * np.log10(flux_rt)       #from the provided equation in the note of the data

print(min(ap_mag_rt),max(ap_mag_rt))
print(len(ap_mag_rt))
#%% md
"""
the values of the magnitude are correct based on the catalog note, max_mag < 20.5 .
But based of the figure 1, VST r magnitude continues up to mag 24
Therefore, probably it is not the correct catalog for this figure.

------
v02
2021-06-23
Sabine Bellstedt <sabine.bellstedt@uwa.edu.au>

This table provides a trimmed-down, science-ready version of table
gvkInputCat. It combines a subset of the columns in gkvInputCat with
redshift information and pre-defined selections of various
scientifically useful sub-samples.

The objects in this table were selected from gvkInputCat by:

r = 8.9 - 2.5*log10(flux_rt) < 20.5
AND
uberclass = galaxy, star OR ambiguous

where the r < 20.5 cut was chosen because this is the limit to which
FIR photometry has been extracted (see the gkvFarIR DMU). This is the
broadest possible sample we believe most users might be interested in.
"""
#%%
# Magnitude intervals and total number of Zs in each interval
Z_raw = gkvScienceCatv02_raw['Z']


def get_redshifts_by_magnitude(apparent_magnitudes):
    magnitude_intervals = np.arange(6, 25, 1)

    # Initialize a dictionary to store redshifts for each magnitude interval
    redshifts_by_magnitude = {}

    # Loop through each magnitude interval
    for i in range(len(magnitude_intervals) - 1):
        magnitude_min = magnitude_intervals[i]
        magnitude_max = magnitude_intervals[i + 1]
        magnitude_mask = (apparent_magnitudes >= magnitude_min) & (apparent_magnitudes < magnitude_max)
        selected_magnitudes_Z = gkvScienceCatv02_raw['Z'][magnitude_mask] # Zs of the objects that are in min and max of each interval
        print("selected_magnitudes_z: ",selected_magnitudes_Z)
        redshifts_by_magnitude[f'Magnitude {magnitude_min}-{magnitude_max}'] = selected_magnitudes_Z # Store the redshifts in a dictionary

    return redshifts_by_magnitude

redshifts_by_magnitude_r_band_known_z = get_redshifts_by_magnitude(apparent_magnitudes=ap_mag_rt)

#%%
# valid Z in each interval

def get_valid_redshifts_by_magnitude(apparent_magnitudes):
    magnitude_intervals = np.arange(6, 25, 1)

    valid_redshifts_by_magnitude = {}

    for i in range(len(magnitude_intervals) - 1):
        magnitude_min = magnitude_intervals[i]
        magnitude_max = magnitude_intervals[i + 1]
        magnitude_mask = (apparent_magnitudes >= magnitude_min) & (apparent_magnitudes < magnitude_max)
        selected_magnitudes_Z = gkvScienceCatv02_raw['Z'][magnitude_mask]
        valid_redshift_count = np.sum(selected_magnitudes_Z > 0) # take the valid Z
        valid_redshifts_by_magnitude[f'Magnitude {magnitude_min}-{magnitude_max}'] = valid_redshift_count #store them in a dictionary

    return valid_redshifts_by_magnitude

valid_redshifts_by_magnitude_r_band_known_z = get_valid_redshifts_by_magnitude(apparent_magnitudes=ap_mag_rt)

for interval, count in valid_redshifts_by_magnitude_r_band_known_z.items():
    print(f"Valid Redshift Count for {interval}: {count}")

#%%
#completeness

valid_redshifts_by_magnitude = get_valid_redshifts_by_magnitude(apparent_magnitudes=ap_mag_rt) #valis
redshifts_by_magnitude = get_redshifts_by_magnitude(apparent_magnitudes=ap_mag_rt) #total

#ratio
ratios_by_magnitude = {}

for interval in redshifts_by_magnitude:
    total_count = len(redshifts_by_magnitude[interval])
    valid_count = valid_redshifts_by_magnitude[interval]
    completeness = valid_count / total_count

    ratios_by_magnitude[interval] = completeness # Store the ratios in a dictionary

for interval, completeness in ratios_by_magnitude.items():
    print(f"completeness of redshift in each intervals of {interval}: {completeness:.2f}")
#%%
#plot

# Calculate valid redshift counts and total redshift counts by magnitude
valid_redshifts_by_magnitude = get_valid_redshifts_by_magnitude(apparent_magnitudes=ap_mag_rt)
redshifts_by_magnitude = get_redshifts_by_magnitude(apparent_magnitudes=ap_mag_rt)

# Define the magnitude intervals
magnitude_intervals = np.arange(6, 25, 1)

# Initialize a dictionary to store the ratios
ratios_by_magnitude = {}

# Calculate the ratio of valid redshifts to total redshifts in each interval
for m1, m2 in zip(magnitude_intervals[:-1], magnitude_intervals[1:]):
    interval_key = f'Magnitude {m1}-{m2}'
    valid_redshift_count = valid_redshifts_by_magnitude[interval_key]
    total_redshift_count = len(redshifts_by_magnitude[interval_key])
    completeness = valid_redshift_count / total_redshift_count
    ratios_by_magnitude[interval_key] = completeness

# Create a plot of the ratios
plt.figure(figsize=(12, 6))
plt.bar(ratios_by_magnitude.keys(), ratios_by_magnitude.values())

# Set labels and title
plt.xlabel('Magnitude Intervals')
plt.ylabel('Completeness of Spectroscopic Redshift')
plt.title('Completeness of Spectroscopic Redshift in Magnitude Intervals')

# Rotate x-axis labels for better readability
plt.xticks(rotation=45, ha='right')

# Show the plot
plt.tight_layout()
plt.show()
